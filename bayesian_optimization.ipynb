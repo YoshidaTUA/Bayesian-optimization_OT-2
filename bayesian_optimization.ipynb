{
 "cells": [
  {
   "cell_type": "markdown",
   "metadata": {},
   "source": [
    "# 必要な関数"
   ]
  },
  {
   "cell_type": "code",
   "execution_count": 38,
   "metadata": {},
   "outputs": [],
   "source": [
    "import matplotlib.pyplot as plt\n",
    "import pandas as pd\n",
    "from sklearn.model_selection import KFold, cross_val_predict\n",
    "from sklearn.metrics import r2_score, mean_squared_error, mean_absolute_error\n",
    "from sklearn.model_selection import KFold, cross_val_predict, GridSearchCV\n",
    "from sklearn.gaussian_process import GaussianProcessRegressor\n",
    "from sklearn.gaussian_process.kernels import WhiteKernel, RBF, ConstantKernel, Matern, DotProduct\n",
    "from sklearn.metrics import r2_score, mean_squared_error, mean_absolute_error\n",
    "from scipy.stats import norm\n",
    "\n",
    "\n",
    "def gpr_one_kernel(kernel_number,autoscaled_x, autoscaled_y,x):\n",
    "    # カーネル 11 種類\n",
    "    kernels = [ConstantKernel() * DotProduct() + WhiteKernel(),\n",
    "            ConstantKernel() * RBF() + WhiteKernel(),\n",
    "            ConstantKernel() * RBF() + WhiteKernel() + ConstantKernel() * DotProduct(),\n",
    "            ConstantKernel() * RBF(np.ones(x.shape[1])) + WhiteKernel(),\n",
    "            ConstantKernel() * RBF(np.ones(x.shape[1])) + WhiteKernel() + ConstantKernel() * DotProduct(),\n",
    "            ConstantKernel() * Matern(nu=1.5) + WhiteKernel(),\n",
    "            ConstantKernel() * Matern(nu=1.5) + WhiteKernel() + ConstantKernel() * DotProduct(),\n",
    "            ConstantKernel() * Matern(nu=0.5) + WhiteKernel(),\n",
    "            ConstantKernel() * Matern(nu=0.5) + WhiteKernel() + ConstantKernel() * DotProduct(),\n",
    "            ConstantKernel() * Matern(nu=2.5) + WhiteKernel(),\n",
    "            ConstantKernel() * Matern(nu=2.5) + WhiteKernel() + ConstantKernel() * DotProduct()]\n",
    "\n",
    "    selected_kernel = kernels[kernel_number]\n",
    "    model = GaussianProcessRegressor(alpha=0, kernel=selected_kernel)\n",
    "    model.fit(autoscaled_x, autoscaled_y)\n",
    "\n",
    "    return model\n",
    "\n",
    "\n",
    "def validate_model(regression_method, model,fold_number, autoscaled_x, autoscaled_y, x, y):\n",
    "     # クロスバリデーションの fold 数\n",
    "    fold_number = fold_number\n",
    "    \n",
    "    # トレーニングデータの推定(実験データ)\n",
    "    autoscaled_estimated_y = model.predict(autoscaled_x)  # y の推定\n",
    "    estimated_y = autoscaled_estimated_y * y.std() + y.mean()  # スケールをもとに戻す\n",
    "    estimated_y = pd.DataFrame(estimated_y, index=x.index, columns=['estimated_y'])\n",
    "\n",
    "    # トレーニングデータの実測値 vs. 推定値のプロット\n",
    "    plt.rcParams['font.size'] = 18\n",
    "    plt.scatter(y, estimated_y.iloc[:, 0], c='blue')  # 実測値 vs. 推定値プロット\n",
    "    y_max = max(y.max(), estimated_y.iloc[:, 0].max())  # 実測値の最大値と、推定値の最大値の中で、より大きい値を取得\n",
    "    y_min = min(y.min(), estimated_y.iloc[:, 0].min())  # 実測値の最小値と、推定値の最小値の中で、より小さい値を取得\n",
    "    plt.plot([y_min - 0.05 * (y_max - y_min), y_max + 0.05 * (y_max - y_min)],\n",
    "            [y_min - 0.05 * (y_max - y_min), y_max + 0.05 * (y_max - y_min)], 'k-')  # 取得した最小値-5%から最大値+5%まで、対角線を作成\n",
    "    plt.ylim(y_min - 0.05 * (y_max - y_min), y_max + 0.05 * (y_max - y_min))  # y 軸の範囲の設定\n",
    "    plt.xlim(y_min - 0.05 * (y_max - y_min), y_max + 0.05 * (y_max - y_min))  # x 軸の範囲の設定\n",
    "    plt.xlabel('actual y')  # x 軸の名前\n",
    "    plt.ylabel('estimated y')  # y 軸の名前\n",
    "    plt.gca().set_aspect('equal', adjustable='box')  # 図の形を正方形に\n",
    "    plt.show()  # 以上の設定で描画\n",
    "\n",
    "    # トレーニングデータのr2, RMSE, MAE\n",
    "    print('r^2 for training data :', r2_score(y, estimated_y))\n",
    "    print('RMSE for training data :', mean_squared_error(y, estimated_y, squared=False))\n",
    "    print('MAE for training data :', mean_absolute_error(y, estimated_y))\n",
    "\n",
    "    # トレーニングデータの結果の保存\n",
    "    y_for_save = pd.DataFrame(y)\n",
    "    y_for_save.columns = ['actual_y']\n",
    "    y_error_train = y_for_save.iloc[:, 0] - estimated_y.iloc[:, 0]\n",
    "    y_error_train = pd.DataFrame(y_error_train)\n",
    "    y_error_train.columns = ['error_of_y(actual_y-estimated_y)']\n",
    "    results_train = pd.concat([y_for_save, estimated_y, y_error_train], axis=1) # 結合\n",
    "    results_train.to_csv('./../results/validation/estimated_y_in_detail_{0}.csv'.format(regression_method))  # 推定値を csv ファイルに保存。同じ名前のファイルがあるときは上書きされますので注意してください\n",
    "    \n",
    "    # クロスバリデーションによる y の値の推定\n",
    "    cross_validation = KFold(n_splits=fold_number, random_state=9, shuffle=True) # クロスバリデーションの分割の設定\n",
    "    autoscaled_estimated_y_in_cv = cross_val_predict(model, autoscaled_x, autoscaled_y, cv=cross_validation)  # y の推定\n",
    "    estimated_y_in_cv = autoscaled_estimated_y_in_cv * y.std() + y.mean()  # スケールをもとに戻す\n",
    "    estimated_y_in_cv = pd.DataFrame(estimated_y_in_cv, index=x.index, columns=['estimated_y'])\n",
    "\n",
    "    # クロスバリデーションにおける実測値 vs. 推定値のプロット\n",
    "    plt.rcParams['font.size'] = 18\n",
    "    plt.scatter(y, estimated_y_in_cv.iloc[:, 0], c='blue')  # 実測値 vs. 推定値プロット\n",
    "    y_max = max(y.max(), estimated_y_in_cv.iloc[:, 0].max())  # 実測値の最大値と、推定値の最大値の中で、より大きい値を取得\n",
    "    y_min = min(y.min(), estimated_y_in_cv.iloc[:, 0].min())  # 実測値の最小値と、推定値の最小値の中で、より小さい値を取得\n",
    "    plt.plot([y_min - 0.05 * (y_max - y_min), y_max + 0.05 * (y_max - y_min)],\n",
    "            [y_min - 0.05 * (y_max - y_min), y_max + 0.05 * (y_max - y_min)], 'k-')  # 取得した最小値-5%から最大値+5%まで、対角線を作成\n",
    "    plt.ylim(y_min - 0.05 * (y_max - y_min), y_max + 0.05 * (y_max - y_min))  # y 軸の範囲の設定\n",
    "    plt.xlim(y_min - 0.05 * (y_max - y_min), y_max + 0.05 * (y_max - y_min))  # x 軸の範囲の設定\n",
    "    plt.xlabel('actual y')  # x 軸の名前\n",
    "    plt.ylabel('estimated y')  # y 軸の名前\n",
    "    plt.gca().set_aspect('equal', adjustable='box')  # 図の形を正方形に\n",
    "    plt.show()  # 以上の設定で描画\n",
    "\n",
    "    # クロスバリデーションにおけるr2, RMSE, MAE\n",
    "    print('r^2 in cross-validation :', r2_score(y, estimated_y_in_cv))\n",
    "    print('RMSE in cross-validation :', mean_squared_error(y, estimated_y_in_cv, squared=False))\n",
    "    print('MAE in cross-validation :', mean_absolute_error(y, estimated_y_in_cv))\n",
    "\n",
    "    # クロスバリデーションの結果の保存\n",
    "    y_error_in_cv = y_for_save.iloc[:, 0] - estimated_y_in_cv.iloc[:, 0]\n",
    "    y_error_in_cv = pd.DataFrame(y_error_in_cv)\n",
    "    y_error_in_cv.columns = ['error_of_y(actual_y-estimated_y)']\n",
    "    results_in_cv = pd.concat([y_for_save, estimated_y_in_cv, y_error_in_cv], axis=1) # 結合\n",
    "    results_in_cv.to_csv('./../results/validation/estimated_y_in_cv_in_detail_{0}.csv'.format(regression_method))  # 推定値を csv ファイルに保存。同じ名前のファイルがあるときは上書きされますので注意してください\n",
    "    \n",
    "\n",
    "\n",
    "    \n",
    "\n",
    "def predict(regression_method, model, autoscaled_x_prediction, x_prediction, y):\n",
    "    estimated_y_prediction_std = None\n",
    "\n",
    "    if regression_method == 'gpr_one_kernel' or regression_method == 'gpr_kernels':  # 標準偏差あり\n",
    "        estimated_y_prediction, estimated_y_prediction_std = model.predict(\n",
    "            autoscaled_x_prediction, return_std=True)\n",
    "        estimated_y_prediction_std = estimated_y_prediction_std * y.std()\n",
    "        estimated_y_prediction_std = pd.DataFrame(\n",
    "            estimated_y_prediction_std, x_prediction.index, columns=['std_of_estimated_y'])\n",
    "        estimated_y_prediction_std.to_csv('estimated_y_prediction_{0}_std.csv'.format(\n",
    "            regression_method))  # 予測値の標準偏差を csv ファイルに保存。同じ名前のファイルがあるときは上書きされますので注意してください\n",
    "    else:\n",
    "        estimated_y_prediction = model.predict(autoscaled_x_prediction)\n",
    "\n",
    "    estimated_y_prediction = estimated_y_prediction * y.std() + y.mean()\n",
    "    estimated_y_prediction = pd.DataFrame(\n",
    "        estimated_y_prediction, x_prediction.index, columns=['estimated_y'])\n",
    "    estimated_y_prediction.to_csv('estimated_y_prediction_{0}.csv'.format(\n",
    "        regression_method))  # 予測結果を csv ファイルに保存。\n",
    "\n",
    "    return estimated_y_prediction, estimated_y_prediction_std\n",
    "\n",
    "\n",
    "\n",
    "def acquisition_functions(x_prediction, estimated_y_prediction, estimated_y_prediction_std, delta, acquisition_function, relaxation, y, regression_method):\n",
    "    target_range = [0, 100]  # PTR\n",
    "    relaxation = 0.01  # EI, PI\n",
    "    delta = 10 ** -6  # MI\n",
    "\n",
    "    cumulative_variance = np.zeros(\n",
    "        x_prediction.shape[0])  # MI で必要な \"ばらつき\" を 0 で初期化\n",
    "    if acquisition_function == 'MI':\n",
    "        acquisition_function_prediction = estimated_y_prediction + np.log(2 / delta) ** 0.5 * (\n",
    "            (estimated_y_prediction_std ** 2 + cumulative_variance) ** 0.5 - cumulative_variance ** 0.5)\n",
    "        cumulative_variance = cumulative_variance + estimated_y_prediction_std ** 2\n",
    "    elif acquisition_function == 'EI':\n",
    "        acquisition_function_prediction = (estimated_y_prediction - max(y) - relaxation * y.std()) * \\\n",
    "            norm.cdf((estimated_y_prediction - max(y) - relaxation * y.std()) /\n",
    "                     estimated_y_prediction_std) + \\\n",
    "            estimated_y_prediction_std * \\\n",
    "            norm.pdf((estimated_y_prediction - max(y) - relaxation * y.std()) /\n",
    "                     estimated_y_prediction_std)\n",
    "    elif acquisition_function == 'PI':\n",
    "        acquisition_function_prediction = norm.cdf(\n",
    "            (estimated_y_prediction - max(y) - relaxation * y.std()) / estimated_y_prediction_std)\n",
    "    elif acquisition_function == 'PTR':\n",
    "        acquisition_function_prediction = norm.cdf(target_range[1],\n",
    "                                                   loc=estimated_y_prediction,\n",
    "                                                   scale=estimated_y_prediction_std\n",
    "                                                   ) - norm.cdf(target_range[0],\n",
    "                                                                loc=estimated_y_prediction,\n",
    "                                                                scale=estimated_y_prediction_std)\n",
    "        \n",
    "    acquisition_function_prediction[estimated_y_prediction_std <= 0] = 0\n",
    "\n",
    "    # 保存\n",
    "    estimated_y_prediction = pd.DataFrame(\n",
    "        estimated_y_prediction, x_prediction.index, columns=['estimated_y'])\n",
    "    estimated_y_prediction.to_csv('estimated_y_prediction_{0}.csv'.format(\n",
    "        regression_method))  # 予測結果を csv ファイルに保存。同じ名前のファイルがあるときは上書きされますので注意してください\n",
    "    estimated_y_prediction_std = pd.DataFrame(\n",
    "        estimated_y_prediction_std, x_prediction.index, columns=['std_of_estimated_y'])\n",
    "    estimated_y_prediction_std.to_csv('estimated_y_prediction_{0}_std.csv'.format(\n",
    "        regression_method))  # 予測値の標準偏差を csv ファイルに保存。同じ名前のファイルがあるときは上書きされますので注意してください\n",
    "    acquisition_function_prediction = pd.DataFrame(\n",
    "        acquisition_function_prediction, index=x_prediction.index, columns=['acquisition_function'])\n",
    "    acquisition_function_prediction.to_csv('acquisition_function_prediction_{0}_{1}.csv'.format(\n",
    "        regression_method, acquisition_function))  # 獲得関数を csv ファイルに保存。同じ名前のファイルがあるときは上書きされますので注意してください\n",
    "\n",
    "    return estimated_y_prediction, acquisition_function_prediction, acquisition_function\n",
    "\n"
   ]
  },
  {
   "cell_type": "markdown",
   "metadata": {},
   "source": [
    "# ベイズ最適化"
   ]
  },
  {
   "cell_type": "code",
   "execution_count": 39,
   "metadata": {},
   "outputs": [
    {
     "data": {
      "image/png": "[encoded data removed]",
      "text/plain": [
       "<Figure size 640x480 with 1 Axes>"
      ]
     },
     "metadata": {},
     "output_type": "display_data"
    },
    {
     "name": "stdout",
     "output_type": "stream",
     "text": [
      "r^2 for training data : 0.9990708840209436\n",
      "RMSE for training data : 1.2168050837314486e-06\n",
      "MAE for training data : 8.65015328435558e-07\n"
     ]
    },
    {
     "name": "stderr",
     "output_type": "stream",
     "text": [
      "c:\\Users\\Ayano\\anaconda3\\Lib\\site-packages\\sklearn\\gaussian_process\\kernels.py:419: ConvergenceWarning: The optimal value found for dimension 0 of parameter k2__k1__constant_value is close to the specified lower bound 1e-05. Decreasing the bound and calling fit again may find a better value.\n",
      "  warnings.warn(\n",
      "c:\\Users\\Ayano\\anaconda3\\Lib\\site-packages\\sklearn\\gaussian_process\\kernels.py:419: ConvergenceWarning: The optimal value found for dimension 0 of parameter k1__k2__noise_level is close to the specified lower bound 1e-05. Decreasing the bound and calling fit again may find a better value.\n",
      "  warnings.warn(\n",
      "c:\\Users\\Ayano\\anaconda3\\Lib\\site-packages\\sklearn\\gaussian_process\\kernels.py:419: ConvergenceWarning: The optimal value found for dimension 0 of parameter k1__k2__noise_level is close to the specified lower bound 1e-05. Decreasing the bound and calling fit again may find a better value.\n",
      "  warnings.warn(\n",
      "c:\\Users\\Ayano\\anaconda3\\Lib\\site-packages\\sklearn\\gaussian_process\\kernels.py:419: ConvergenceWarning: The optimal value found for dimension 0 of parameter k1__k2__noise_level is close to the specified lower bound 1e-05. Decreasing the bound and calling fit again may find a better value.\n",
      "  warnings.warn(\n",
      "c:\\Users\\Ayano\\anaconda3\\Lib\\site-packages\\sklearn\\gaussian_process\\kernels.py:419: ConvergenceWarning: The optimal value found for dimension 0 of parameter k1__k2__noise_level is close to the specified lower bound 1e-05. Decreasing the bound and calling fit again may find a better value.\n",
      "  warnings.warn(\n",
      "c:\\Users\\Ayano\\anaconda3\\Lib\\site-packages\\sklearn\\gaussian_process\\kernels.py:419: ConvergenceWarning: The optimal value found for dimension 0 of parameter k1__k2__noise_level is close to the specified lower bound 1e-05. Decreasing the bound and calling fit again may find a better value.\n",
      "  warnings.warn(\n"
     ]
    },
    {
     "data": {
      "image/png": "[encoded data removed]",
      "text/plain": [
       "<Figure size 640x480 with 1 Axes>"
      ]
     },
     "metadata": {},
     "output_type": "display_data"
    },
    {
     "name": "stdout",
     "output_type": "stream",
     "text": [
      "r^2 in cross-validation : 0.8708438236844168\n",
      "RMSE in cross-validation : 1.4346423289758223e-05\n",
      "MAE in cross-validation : 1.0417584801168698e-05\n",
      "       std_of_estimated_y\n",
      "id                       \n",
      "59             708.663012\n",
      "61            1417.326024\n",
      "62             708.663012\n",
      "64            3719.706026\n",
      "65            3511.353460\n",
      "...                   ...\n",
      "59045         6914.607921\n",
      "59046         6878.197397\n",
      "59047         7022.706920\n",
      "59048         6914.607921\n",
      "59049         6878.197397\n",
      "\n",
      "[58839 rows x 1 columns]\n",
      "sample number : 1 / 30\n",
      "       std_of_estimated_y\n",
      "id                       \n",
      "59             592.595503\n",
      "61            1185.191006\n",
      "62             592.595503\n",
      "64            3110.478500\n",
      "65            2936.250706\n",
      "...                   ...\n",
      "59045         5782.107276\n",
      "59046         5751.660206\n",
      "59047         5872.501413\n",
      "59048         5782.107276\n",
      "59049         5751.660206\n",
      "\n",
      "[58838 rows x 1 columns]\n",
      "sample number : 2 / 30\n"
     ]
    },
    {
     "name": "stderr",
     "output_type": "stream",
     "text": [
      "c:\\Users\\Ayano\\anaconda3\\Lib\\site-packages\\sklearn\\gaussian_process\\kernels.py:419: ConvergenceWarning: The optimal value found for dimension 0 of parameter k1__k2__noise_level is close to the specified lower bound 1e-05. Decreasing the bound and calling fit again may find a better value.\n",
      "  warnings.warn(\n"
     ]
    },
    {
     "name": "stdout",
     "output_type": "stream",
     "text": [
      "       std_of_estimated_y\n",
      "id                       \n",
      "59             959.618752\n",
      "61            1919.237503\n",
      "62             959.618752\n",
      "64            5036.949286\n",
      "65            4754.813737\n",
      "...                   ...\n",
      "59045         9363.247846\n",
      "59046         9313.943423\n",
      "59047         9509.627473\n",
      "59048         9363.247846\n",
      "59049         9313.943423\n",
      "\n",
      "[58837 rows x 1 columns]\n",
      "sample number : 3 / 30\n"
     ]
    },
    {
     "name": "stderr",
     "output_type": "stream",
     "text": [
      "c:\\Users\\Ayano\\anaconda3\\Lib\\site-packages\\sklearn\\gaussian_process\\kernels.py:419: ConvergenceWarning: The optimal value found for dimension 0 of parameter k1__k2__noise_level is close to the specified lower bound 1e-05. Decreasing the bound and calling fit again may find a better value.\n",
      "  warnings.warn(\n"
     ]
    },
    {
     "name": "stdout",
     "output_type": "stream",
     "text": [
      "       std_of_estimated_y\n",
      "id                       \n",
      "59             991.047880\n",
      "61            1982.095759\n",
      "62             991.047880\n",
      "64            5201.917848\n",
      "65            4910.541884\n",
      "...                   ...\n",
      "59045         9669.909963\n",
      "59046         9618.990737\n",
      "59047         9821.083769\n",
      "59048         9669.909963\n",
      "59049         9618.990737\n",
      "\n",
      "[58836 rows x 1 columns]\n",
      "sample number : 4 / 30\n"
     ]
    },
    {
     "name": "stderr",
     "output_type": "stream",
     "text": [
      "c:\\Users\\Ayano\\anaconda3\\Lib\\site-packages\\sklearn\\gaussian_process\\kernels.py:419: ConvergenceWarning: The optimal value found for dimension 0 of parameter k1__k2__noise_level is close to the specified lower bound 1e-05. Decreasing the bound and calling fit again may find a better value.\n",
      "  warnings.warn(\n"
     ]
    },
    {
     "name": "stdout",
     "output_type": "stream",
     "text": [
      "       std_of_estimated_y\n",
      "id                       \n",
      "59            1010.576532\n",
      "61            2021.153063\n",
      "62            1010.576532\n",
      "64            5304.421920\n",
      "65            5007.304378\n",
      "...                   ...\n",
      "59045         9860.456062\n",
      "59046         9808.533469\n",
      "59047        10014.608756\n",
      "59048         9860.456062\n",
      "59049         9808.533469\n",
      "\n",
      "[58835 rows x 1 columns]\n",
      "sample number : 5 / 30\n"
     ]
    },
    {
     "name": "stderr",
     "output_type": "stream",
     "text": [
      "c:\\Users\\Ayano\\anaconda3\\Lib\\site-packages\\sklearn\\gaussian_process\\kernels.py:419: ConvergenceWarning: The optimal value found for dimension 0 of parameter k1__k2__noise_level is close to the specified lower bound 1e-05. Decreasing the bound and calling fit again may find a better value.\n",
      "  warnings.warn(\n"
     ]
    },
    {
     "name": "stdout",
     "output_type": "stream",
     "text": [
      "       std_of_estimated_y\n",
      "id                       \n",
      "59             955.266516\n",
      "61            1910.533032\n",
      "62             955.266516\n",
      "64            5014.104811\n",
      "65            4733.248853\n",
      "...                   ...\n",
      "59045         9320.781966\n",
      "59046         9271.701157\n",
      "59047         9466.497706\n",
      "59048         9320.781966\n",
      "59049         9271.701157\n",
      "\n",
      "[58834 rows x 1 columns]\n",
      "sample number : 6 / 30\n"
     ]
    },
    {
     "name": "stderr",
     "output_type": "stream",
     "text": [
      "c:\\Users\\Ayano\\anaconda3\\Lib\\site-packages\\sklearn\\gaussian_process\\kernels.py:419: ConvergenceWarning: The optimal value found for dimension 0 of parameter k1__k2__noise_level is close to the specified lower bound 1e-05. Decreasing the bound and calling fit again may find a better value.\n",
      "  warnings.warn(\n"
     ]
    },
    {
     "name": "stdout",
     "output_type": "stream",
     "text": [
      "       std_of_estimated_y\n",
      "id                       \n",
      "59             944.295162\n",
      "61            1888.590323\n",
      "62             944.295162\n",
      "64            4956.517196\n",
      "65            4678.886904\n",
      "...                   ...\n",
      "59045         9213.731631\n",
      "59046         9165.214521\n",
      "59047         9357.773807\n",
      "59048         9213.731631\n",
      "59049         9165.214521\n",
      "\n",
      "[58833 rows x 1 columns]\n",
      "sample number : 7 / 30\n"
     ]
    },
    {
     "name": "stderr",
     "output_type": "stream",
     "text": [
      "c:\\Users\\Ayano\\anaconda3\\Lib\\site-packages\\sklearn\\gaussian_process\\kernels.py:419: ConvergenceWarning: The optimal value found for dimension 0 of parameter k1__k2__noise_level is close to the specified lower bound 1e-05. Decreasing the bound and calling fit again may find a better value.\n",
      "  warnings.warn(\n"
     ]
    },
    {
     "name": "stdout",
     "output_type": "stream",
     "text": [
      "       std_of_estimated_y\n",
      "id                       \n",
      "59             943.509063\n",
      "61            1887.018126\n",
      "62             943.509063\n",
      "64            4952.391037\n",
      "65            4674.991864\n",
      "...                   ...\n",
      "59045         9206.061464\n",
      "59046         9157.584743\n",
      "59047         9349.983729\n",
      "59048         9206.061464\n",
      "59049         9157.584743\n",
      "\n",
      "[58832 rows x 1 columns]\n",
      "sample number : 8 / 30\n"
     ]
    },
    {
     "name": "stderr",
     "output_type": "stream",
     "text": [
      "c:\\Users\\Ayano\\anaconda3\\Lib\\site-packages\\sklearn\\gaussian_process\\kernels.py:419: ConvergenceWarning: The optimal value found for dimension 0 of parameter k1__k2__noise_level is close to the specified lower bound 1e-05. Decreasing the bound and calling fit again may find a better value.\n",
      "  warnings.warn(\n"
     ]
    },
    {
     "name": "stdout",
     "output_type": "stream",
     "text": [
      "       std_of_estimated_y\n",
      "id                       \n",
      "59             937.829852\n",
      "61            1875.659704\n",
      "62             937.829852\n",
      "64            4922.581390\n",
      "65            4646.851950\n",
      "...                   ...\n",
      "59045         9150.647939\n",
      "59046         9102.463011\n",
      "59047         9293.703901\n",
      "59048         9150.647939\n",
      "59049         9102.463011\n",
      "\n",
      "[58831 rows x 1 columns]\n",
      "sample number : 9 / 30\n"
     ]
    },
    {
     "name": "stderr",
     "output_type": "stream",
     "text": [
      "c:\\Users\\Ayano\\anaconda3\\Lib\\site-packages\\sklearn\\gaussian_process\\kernels.py:419: ConvergenceWarning: The optimal value found for dimension 0 of parameter k1__k2__noise_level is close to the specified lower bound 1e-05. Decreasing the bound and calling fit again may find a better value.\n",
      "  warnings.warn(\n"
     ]
    },
    {
     "name": "stdout",
     "output_type": "stream",
     "text": [
      "       std_of_estimated_y\n",
      "id                       \n",
      "59            1275.053462\n",
      "61            2550.106923\n",
      "62            1275.053462\n",
      "64            6692.636653\n",
      "65            6317.760788\n",
      "...                   ...\n",
      "59045        12441.025743\n",
      "59046        12375.514543\n",
      "59047        12635.521577\n",
      "59048        12441.025743\n",
      "59049        12375.514543\n",
      "\n",
      "[58830 rows x 1 columns]\n",
      "sample number : 10 / 30\n"
     ]
    },
    {
     "name": "stderr",
     "output_type": "stream",
     "text": [
      "c:\\Users\\Ayano\\anaconda3\\Lib\\site-packages\\sklearn\\gaussian_process\\kernels.py:419: ConvergenceWarning: The optimal value found for dimension 0 of parameter k1__k2__noise_level is close to the specified lower bound 1e-05. Decreasing the bound and calling fit again may find a better value.\n",
      "  warnings.warn(\n"
     ]
    },
    {
     "name": "stdout",
     "output_type": "stream",
     "text": [
      "       std_of_estimated_y\n",
      "id                       \n",
      "59            1265.093556\n",
      "61            2530.187112\n",
      "62            1265.093556\n",
      "64            6640.358550\n",
      "65            6268.411007\n",
      "...                   ...\n",
      "59045        12343.845474\n",
      "59046        12278.846011\n",
      "59047        12536.822013\n",
      "59048        12343.845474\n",
      "59049        12278.846011\n",
      "\n",
      "[58829 rows x 1 columns]\n",
      "sample number : 11 / 30\n"
     ]
    },
    {
     "name": "stderr",
     "output_type": "stream",
     "text": [
      "c:\\Users\\Ayano\\anaconda3\\Lib\\site-packages\\sklearn\\gaussian_process\\kernels.py:419: ConvergenceWarning: The optimal value found for dimension 0 of parameter k1__k2__noise_level is close to the specified lower bound 1e-05. Decreasing the bound and calling fit again may find a better value.\n",
      "  warnings.warn(\n"
     ]
    },
    {
     "name": "stdout",
     "output_type": "stream",
     "text": [
      "       std_of_estimated_y\n",
      "id                       \n",
      "59             884.877214\n",
      "61            1769.754428\n",
      "62             884.877214\n",
      "64            4644.638650\n",
      "65            4384.477750\n",
      "...                   ...\n",
      "59045         8633.976922\n",
      "59046         8588.512666\n",
      "59047         8768.955499\n",
      "59048         8633.976922\n",
      "59049         8588.512666\n",
      "\n",
      "[58828 rows x 1 columns]\n",
      "sample number : 12 / 30\n"
     ]
    },
    {
     "name": "stderr",
     "output_type": "stream",
     "text": [
      "c:\\Users\\Ayano\\anaconda3\\Lib\\site-packages\\sklearn\\gaussian_process\\kernels.py:419: ConvergenceWarning: The optimal value found for dimension 0 of parameter k1__k2__noise_level is close to the specified lower bound 1e-05. Decreasing the bound and calling fit again may find a better value.\n",
      "  warnings.warn(\n"
     ]
    },
    {
     "name": "stdout",
     "output_type": "stream",
     "text": [
      "       std_of_estimated_y\n",
      "id                       \n",
      "59             873.075831\n",
      "61            1746.151662\n",
      "62             873.075831\n",
      "64            4582.694634\n",
      "65            4326.003455\n",
      "...                   ...\n",
      "59045         8518.828519\n",
      "59046         8473.970612\n",
      "59047         8652.006909\n",
      "59048         8518.828519\n",
      "59049         8473.970612\n",
      "\n",
      "[58827 rows x 1 columns]\n",
      "sample number : 13 / 30\n"
     ]
    },
    {
     "name": "stderr",
     "output_type": "stream",
     "text": [
      "c:\\Users\\Ayano\\anaconda3\\Lib\\site-packages\\sklearn\\gaussian_process\\kernels.py:419: ConvergenceWarning: The optimal value found for dimension 0 of parameter k1__k2__noise_level is close to the specified lower bound 1e-05. Decreasing the bound and calling fit again may find a better value.\n",
      "  warnings.warn(\n"
     ]
    },
    {
     "name": "stdout",
     "output_type": "stream",
     "text": [
      "       std_of_estimated_y\n",
      "id                       \n",
      "59             865.745600\n",
      "61            1731.491199\n",
      "62             865.745600\n",
      "64            4544.218924\n",
      "65            4289.682890\n",
      "...                   ...\n",
      "59045         8447.305538\n",
      "59046         8402.824252\n",
      "59047         8579.365780\n",
      "59048         8447.305538\n",
      "59049         8402.824252\n",
      "\n",
      "[58826 rows x 1 columns]\n",
      "sample number : 14 / 30\n"
     ]
    },
    {
     "name": "stderr",
     "output_type": "stream",
     "text": [
      "c:\\Users\\Ayano\\anaconda3\\Lib\\site-packages\\sklearn\\gaussian_process\\kernels.py:419: ConvergenceWarning: The optimal value found for dimension 0 of parameter k1__k2__noise_level is close to the specified lower bound 1e-05. Decreasing the bound and calling fit again may find a better value.\n",
      "  warnings.warn(\n"
     ]
    },
    {
     "name": "stdout",
     "output_type": "stream",
     "text": [
      "       std_of_estimated_y\n",
      "id                       \n",
      "59             844.189325\n",
      "61            1688.378651\n",
      "62             844.189325\n",
      "64            4431.072366\n",
      "65            4182.874067\n",
      "...                   ...\n",
      "59045         8236.976084\n",
      "59046         8193.602345\n",
      "59047         8365.748135\n",
      "59048         8236.976084\n",
      "59049         8193.602345\n",
      "\n",
      "[58825 rows x 1 columns]\n",
      "sample number : 15 / 30\n"
     ]
    },
    {
     "name": "stderr",
     "output_type": "stream",
     "text": [
      "c:\\Users\\Ayano\\anaconda3\\Lib\\site-packages\\sklearn\\gaussian_process\\kernels.py:419: ConvergenceWarning: The optimal value found for dimension 0 of parameter k1__k2__noise_level is close to the specified lower bound 1e-05. Decreasing the bound and calling fit again may find a better value.\n",
      "  warnings.warn(\n"
     ]
    },
    {
     "name": "stdout",
     "output_type": "stream",
     "text": [
      "       std_of_estimated_y\n",
      "id                       \n",
      "59             863.496983\n",
      "61            1726.993965\n",
      "62             863.496983\n",
      "64            4532.416488\n",
      "65            4278.541587\n",
      "...                   ...\n",
      "59045         8425.365945\n",
      "59046         8381.000195\n",
      "59047         8557.083173\n",
      "59048         8425.365945\n",
      "59049         8381.000195\n",
      "\n",
      "[58824 rows x 1 columns]\n",
      "sample number : 16 / 30\n"
     ]
    },
    {
     "name": "stderr",
     "output_type": "stream",
     "text": [
      "c:\\Users\\Ayano\\anaconda3\\Lib\\site-packages\\sklearn\\gaussian_process\\kernels.py:419: ConvergenceWarning: The optimal value found for dimension 0 of parameter k1__k2__noise_level is close to the specified lower bound 1e-05. Decreasing the bound and calling fit again may find a better value.\n",
      "  warnings.warn(\n"
     ]
    },
    {
     "name": "stdout",
     "output_type": "stream",
     "text": [
      "       std_of_estimated_y\n",
      "id                       \n",
      "59            1201.215196\n",
      "61            2402.430392\n",
      "62            1201.215196\n",
      "64            6305.067941\n",
      "65            5951.901200\n",
      "...                   ...\n",
      "59045        11720.569856\n",
      "59046        11658.852422\n",
      "59047        11903.802400\n",
      "59048        11720.569856\n",
      "59049        11658.852422\n",
      "\n",
      "[58823 rows x 1 columns]\n",
      "sample number : 17 / 30\n"
     ]
    },
    {
     "name": "stderr",
     "output_type": "stream",
     "text": [
      "c:\\Users\\Ayano\\anaconda3\\Lib\\site-packages\\sklearn\\gaussian_process\\kernels.py:419: ConvergenceWarning: The optimal value found for dimension 0 of parameter k1__k2__noise_level is close to the specified lower bound 1e-05. Decreasing the bound and calling fit again may find a better value.\n",
      "  warnings.warn(\n"
     ]
    },
    {
     "name": "stdout",
     "output_type": "stream",
     "text": [
      "       std_of_estimated_y\n",
      "id                       \n",
      "59            1195.391723\n",
      "61            2390.783447\n",
      "62            1195.391723\n",
      "64            6274.501071\n",
      "65            5923.046477\n",
      "...                   ...\n",
      "59045        11663.748718\n",
      "59046        11602.330489\n",
      "59047        11846.092954\n",
      "59048        11663.748718\n",
      "59049        11602.330489\n",
      "\n",
      "[58822 rows x 1 columns]\n",
      "sample number : 18 / 30\n"
     ]
    },
    {
     "name": "stderr",
     "output_type": "stream",
     "text": [
      "c:\\Users\\Ayano\\anaconda3\\Lib\\site-packages\\sklearn\\gaussian_process\\kernels.py:419: ConvergenceWarning: The optimal value found for dimension 0 of parameter k1__k2__noise_level is close to the specified lower bound 1e-05. Decreasing the bound and calling fit again may find a better value.\n",
      "  warnings.warn(\n"
     ]
    },
    {
     "name": "stdout",
     "output_type": "stream",
     "text": [
      "       std_of_estimated_y\n",
      "id                       \n",
      "59            1188.907206\n",
      "61            2377.814411\n",
      "62            1188.907206\n",
      "64            6240.463955\n",
      "65            5890.915832\n",
      "...                   ...\n",
      "59045        11600.476556\n",
      "59046        11539.391491\n",
      "59047        11781.831664\n",
      "59048        11600.476556\n",
      "59049        11539.391491\n",
      "\n",
      "[58821 rows x 1 columns]\n",
      "sample number : 19 / 30\n"
     ]
    },
    {
     "name": "stderr",
     "output_type": "stream",
     "text": [
      "c:\\Users\\Ayano\\anaconda3\\Lib\\site-packages\\sklearn\\gaussian_process\\kernels.py:419: ConvergenceWarning: The optimal value found for dimension 0 of parameter k1__k2__noise_level is close to the specified lower bound 1e-05. Decreasing the bound and calling fit again may find a better value.\n",
      "  warnings.warn(\n"
     ]
    },
    {
     "name": "stdout",
     "output_type": "stream",
     "text": [
      "       std_of_estimated_y\n",
      "id                       \n",
      "59            1183.165104\n",
      "61            2366.330208\n",
      "62            1183.165104\n",
      "64            6210.324196\n",
      "65            5862.464297\n",
      "...                   ...\n",
      "59045        11544.449382\n",
      "59046        11483.659341\n",
      "59047        11724.928593\n",
      "59048        11544.449382\n",
      "59049        11483.659341\n",
      "\n",
      "[58820 rows x 1 columns]\n",
      "sample number : 20 / 30\n"
     ]
    },
    {
     "name": "stderr",
     "output_type": "stream",
     "text": [
      "c:\\Users\\Ayano\\anaconda3\\Lib\\site-packages\\sklearn\\gaussian_process\\kernels.py:419: ConvergenceWarning: The optimal value found for dimension 0 of parameter k1__k2__noise_level is close to the specified lower bound 1e-05. Decreasing the bound and calling fit again may find a better value.\n",
      "  warnings.warn(\n"
     ]
    },
    {
     "name": "stdout",
     "output_type": "stream",
     "text": [
      "       std_of_estimated_y\n",
      "id                       \n",
      "59            1177.272408\n",
      "61            2354.544815\n",
      "62            1177.272408\n",
      "64            6179.393503\n",
      "65            5833.266075\n",
      "...                   ...\n",
      "59045        11486.951790\n",
      "59046        11426.464506\n",
      "59047        11666.532149\n",
      "59048        11486.951790\n",
      "59049        11426.464506\n",
      "\n",
      "[58819 rows x 1 columns]\n",
      "sample number : 21 / 30\n"
     ]
    },
    {
     "name": "stderr",
     "output_type": "stream",
     "text": [
      "c:\\Users\\Ayano\\anaconda3\\Lib\\site-packages\\sklearn\\gaussian_process\\kernels.py:419: ConvergenceWarning: The optimal value found for dimension 0 of parameter k1__k2__noise_level is close to the specified lower bound 1e-05. Decreasing the bound and calling fit again may find a better value.\n",
      "  warnings.warn(\n"
     ]
    },
    {
     "name": "stdout",
     "output_type": "stream",
     "text": [
      "       std_of_estimated_y\n",
      "id                       \n",
      "59            1172.796107\n",
      "61            2345.592214\n",
      "62            1172.796107\n",
      "64            6155.897818\n",
      "65            5811.086457\n",
      "...                   ...\n",
      "59045        11443.275368\n",
      "59046        11383.018072\n",
      "59047        11622.172915\n",
      "59048        11443.275368\n",
      "59049        11383.018072\n",
      "\n",
      "[58818 rows x 1 columns]\n",
      "sample number : 22 / 30\n"
     ]
    },
    {
     "name": "stderr",
     "output_type": "stream",
     "text": [
      "c:\\Users\\Ayano\\anaconda3\\Lib\\site-packages\\sklearn\\gaussian_process\\kernels.py:419: ConvergenceWarning: The optimal value found for dimension 0 of parameter k1__k2__noise_level is close to the specified lower bound 1e-05. Decreasing the bound and calling fit again may find a better value.\n",
      "  warnings.warn(\n"
     ]
    },
    {
     "name": "stdout",
     "output_type": "stream",
     "text": [
      "       std_of_estimated_y\n",
      "id                       \n",
      "59            1085.840837\n",
      "61            2171.681674\n",
      "62            1085.840837\n",
      "64            5699.477246\n",
      "65            5380.231399\n",
      "...                   ...\n",
      "59045        10594.829337\n",
      "59046        10539.039726\n",
      "59047        10760.462799\n",
      "59048        10594.829337\n",
      "59049        10539.039726\n",
      "\n",
      "[58817 rows x 1 columns]\n",
      "sample number : 23 / 30\n"
     ]
    },
    {
     "name": "stderr",
     "output_type": "stream",
     "text": [
      "c:\\Users\\Ayano\\anaconda3\\Lib\\site-packages\\sklearn\\gaussian_process\\kernels.py:419: ConvergenceWarning: The optimal value found for dimension 0 of parameter k1__k2__noise_level is close to the specified lower bound 1e-05. Decreasing the bound and calling fit again may find a better value.\n",
      "  warnings.warn(\n"
     ]
    },
    {
     "name": "stdout",
     "output_type": "stream",
     "text": [
      "       std_of_estimated_y\n",
      "id                       \n",
      "59            1106.123048\n",
      "61            2212.246095\n",
      "62            1106.123048\n",
      "64            5805.936677\n",
      "65            5480.727699\n",
      "...                   ...\n",
      "59045        10792.728101\n",
      "59046        10735.896407\n",
      "59047        10961.455398\n",
      "59048        10792.728101\n",
      "59049        10735.896407\n",
      "\n",
      "[58816 rows x 1 columns]\n",
      "sample number : 24 / 30\n"
     ]
    },
    {
     "name": "stderr",
     "output_type": "stream",
     "text": [
      "c:\\Users\\Ayano\\anaconda3\\Lib\\site-packages\\sklearn\\gaussian_process\\kernels.py:419: ConvergenceWarning: The optimal value found for dimension 0 of parameter k1__k2__noise_level is close to the specified lower bound 1e-05. Decreasing the bound and calling fit again may find a better value.\n",
      "  warnings.warn(\n"
     ]
    },
    {
     "name": "stdout",
     "output_type": "stream",
     "text": [
      "       std_of_estimated_y\n",
      "id                       \n",
      "59            1121.442814\n",
      "61            2242.885627\n",
      "62            1121.442814\n",
      "64            5886.348249\n",
      "65            5556.635111\n",
      "...                   ...\n",
      "59045        10942.206042\n",
      "59046        10884.587226\n",
      "59047        11113.270222\n",
      "59048        10942.206042\n",
      "59049        10884.587226\n",
      "\n",
      "[58815 rows x 1 columns]\n",
      "sample number : 25 / 30\n"
     ]
    },
    {
     "name": "stderr",
     "output_type": "stream",
     "text": [
      "c:\\Users\\Ayano\\anaconda3\\Lib\\site-packages\\sklearn\\gaussian_process\\kernels.py:419: ConvergenceWarning: The optimal value found for dimension 0 of parameter k1__k2__noise_level is close to the specified lower bound 1e-05. Decreasing the bound and calling fit again may find a better value.\n",
      "  warnings.warn(\n"
     ]
    },
    {
     "name": "stdout",
     "output_type": "stream",
     "text": [
      "       std_of_estimated_y\n",
      "id                       \n",
      "59            1137.681633\n",
      "61            2275.363266\n",
      "62            1137.681633\n",
      "64            5971.584292\n",
      "65            5637.096811\n",
      "...                   ...\n",
      "59045        11100.652383\n",
      "59046        11042.199230\n",
      "59047        11274.193622\n",
      "59048        11100.652383\n",
      "59049        11042.199230\n",
      "\n",
      "[58814 rows x 1 columns]\n",
      "sample number : 26 / 30\n"
     ]
    },
    {
     "name": "stderr",
     "output_type": "stream",
     "text": [
      "c:\\Users\\Ayano\\anaconda3\\Lib\\site-packages\\sklearn\\gaussian_process\\kernels.py:419: ConvergenceWarning: The optimal value found for dimension 0 of parameter k1__k2__noise_level is close to the specified lower bound 1e-05. Decreasing the bound and calling fit again may find a better value.\n",
      "  warnings.warn(\n"
     ]
    },
    {
     "name": "stdout",
     "output_type": "stream",
     "text": [
      "       std_of_estimated_y\n",
      "id                       \n",
      "59            1150.775101\n",
      "61            2301.550202\n",
      "62            1150.775101\n",
      "64            6040.310678\n",
      "65            5701.973613\n",
      "...                   ...\n",
      "59045        11228.408718\n",
      "59046        11169.282833\n",
      "59047        11403.947226\n",
      "59048        11228.408718\n",
      "59049        11169.282833\n",
      "\n",
      "[58813 rows x 1 columns]\n",
      "sample number : 27 / 30\n"
     ]
    },
    {
     "name": "stderr",
     "output_type": "stream",
     "text": [
      "c:\\Users\\Ayano\\anaconda3\\Lib\\site-packages\\sklearn\\gaussian_process\\kernels.py:419: ConvergenceWarning: The optimal value found for dimension 0 of parameter k1__k2__noise_level is close to the specified lower bound 1e-05. Decreasing the bound and calling fit again may find a better value.\n",
      "  warnings.warn(\n"
     ]
    },
    {
     "name": "stdout",
     "output_type": "stream",
     "text": [
      "       std_of_estimated_y\n",
      "id                       \n",
      "59            1142.127214\n",
      "61            2284.254428\n",
      "62            1142.127214\n",
      "64            5994.918271\n",
      "65            5659.123727\n",
      "...                   ...\n",
      "59045        11144.028074\n",
      "59046        11085.346505\n",
      "59047        11318.247454\n",
      "59048        11144.028074\n",
      "59049        11085.346505\n",
      "\n",
      "[58812 rows x 1 columns]\n",
      "sample number : 28 / 30\n"
     ]
    },
    {
     "name": "stderr",
     "output_type": "stream",
     "text": [
      "c:\\Users\\Ayano\\anaconda3\\Lib\\site-packages\\sklearn\\gaussian_process\\kernels.py:419: ConvergenceWarning: The optimal value found for dimension 0 of parameter k1__k2__noise_level is close to the specified lower bound 1e-05. Decreasing the bound and calling fit again may find a better value.\n",
      "  warnings.warn(\n"
     ]
    },
    {
     "name": "stdout",
     "output_type": "stream",
     "text": [
      "       std_of_estimated_y\n",
      "id                       \n",
      "59            1132.008905\n",
      "61            2264.017810\n",
      "62            1132.008905\n",
      "64            5941.808219\n",
      "65            5608.988539\n",
      "...                   ...\n",
      "59045        11045.301138\n",
      "59046        10987.139440\n",
      "59047        11217.977078\n",
      "59048        11045.301138\n",
      "59049        10987.139440\n",
      "\n",
      "[58811 rows x 1 columns]\n",
      "sample number : 29 / 30\n"
     ]
    },
    {
     "name": "stderr",
     "output_type": "stream",
     "text": [
      "c:\\Users\\Ayano\\anaconda3\\Lib\\site-packages\\sklearn\\gaussian_process\\kernels.py:419: ConvergenceWarning: The optimal value found for dimension 0 of parameter k1__k2__noise_level is close to the specified lower bound 1e-05. Decreasing the bound and calling fit again may find a better value.\n",
      "  warnings.warn(\n"
     ]
    },
    {
     "name": "stdout",
     "output_type": "stream",
     "text": [
      "       std_of_estimated_y\n",
      "id                       \n",
      "59            1127.311313\n",
      "61            2254.622626\n",
      "62            1127.311313\n",
      "64            5917.151001\n",
      "65            5585.712450\n",
      "...                   ...\n",
      "59045        10999.465528\n",
      "59046        10941.545189\n",
      "59047        11171.424900\n",
      "59048        10999.465528\n",
      "59049        10941.545189\n",
      "\n",
      "[58810 rows x 1 columns]\n",
      "sample number : 30 / 30\n"
     ]
    }
   ],
   "source": [
    "# remaining_samples_number, dateを変更してから実行する\n",
    "\n",
    "import os\n",
    "import numpy as np\n",
    "import pandas as pd\n",
    "\n",
    "#次の候補の数\n",
    "number_of_selecting_samples = 30\n",
    "\n",
    "# 以下2つの変数を変更して実行する\n",
    "# --------------------------------------------------\n",
    "# 実験日\n",
    "date = \"2025-2-7\"\n",
    "\n",
    "# 残りのサンプルファイルの番号\n",
    "remaining_samples_number = 7\n",
    "# --------------------------------------------------\n",
    "\n",
    "\n",
    "# ファイルのパスを定義\n",
    "generated_samples_path = './../data/generated_samples.csv'\n",
    "remaining_samples_path = f'./../data/remaining_samples/remaining_samples_{remaining_samples_number}.csv'\n",
    "\n",
    "# 実験結果データの読み込み\n",
    "dataset = pd.read_csv('./../data/result.csv', index_col=0, header=0)\n",
    "\n",
    "if os.path.exists(remaining_samples_path):\n",
    "    x_prediction = pd.read_csv(remaining_samples_path, index_col=0, header=0)\n",
    "elif os.path.exists(generated_samples_path):\n",
    "    x_prediction = pd.read_csv(generated_samples_path, index_col=0, header=0)\n",
    "\n",
    "\n",
    "# 実験条件の全候補のインデックスのリスト\n",
    "all_indexes = x_prediction.index.tolist()\n",
    "\n",
    "# データ分割\n",
    "y = dataset.iloc[:, 0]  # 目的変数\n",
    "x = dataset.iloc[:, 1:]  # 説明変数\n",
    "\n",
    "# 標準偏差が 0 の特徴量の削除\n",
    "deleting_variables = x.columns[x.std() == 0]\n",
    "x = x.drop(deleting_variables, axis=1)\n",
    "x_prediction = x_prediction.drop(deleting_variables, axis=1)\n",
    "cumulative_variance = np.zeros(x_prediction.shape[0]) # MI で必要な \"ばらつき\" を 0 で初期化\n",
    "\n",
    "# ガウス過程回帰(最初にカーネル関数を選択する)\n",
    "regression_method = 'gpr_one_kernel'\n",
    "acquisition_function = 'PTR' #PTR PI EI MI\n",
    "\n",
    "cumulative_variance = np.zeros(x_prediction.shape[0]) # MI で必要な \"ばらつき\" を 0 で初期化\n",
    "relaxation = 0.01 #EI PI\n",
    "delta = 10**-6 #MI\n",
    "\n",
    "next_samples = pd.DataFrame([], columns=x_prediction.columns) # 次のサンプルを入れる変数を準備\n",
    "\n",
    "for sample_number in range(number_of_selecting_samples):\n",
    "    # オートスケーリング\n",
    "    autoscaled_y = (y - y.mean()) / y.std()\n",
    "    autoscaled_x = (x - x.mean()) / (x.std() +1e-8)\n",
    "    autoscaled_x_prediction = (x_prediction - x.mean()) / (x.std() +1e-8)\n",
    "\n",
    "    # モデル構築\n",
    "    model = gpr_one_kernel(2,autoscaled_x, autoscaled_y, x)\n",
    "\n",
    "     # クロスバリデーション\n",
    "    if sample_number == 0:\n",
    "        validate = validate_model(regression_method, model,10, autoscaled_x, autoscaled_y, x, y)\n",
    "\n",
    "    # 予測\n",
    "    estimated_y_prediction, estimated_y_prediction_std = predict(regression_method, model, autoscaled_x_prediction, x_prediction, y)\n",
    "    estimated_y_prediction, acquisition_function_prediction, acquisition_function = acquisition_functions(x_prediction, estimated_y_prediction, estimated_y_prediction_std, delta, acquisition_function, relaxation, y, regression_method)\n",
    "\n",
    "\n",
    "    # 保存\n",
    "    estimated_y_prediction = pd.DataFrame(estimated_y_prediction, x_prediction.index, columns=['estimated_y'])\n",
    "    estimated_y_prediction_std = pd.DataFrame(estimated_y_prediction_std, x_prediction.index, columns=['std_of_estimated_y'])\n",
    "    print(estimated_y_prediction_std)\n",
    "    acquisition_function_prediction = pd.DataFrame(acquisition_function_prediction, index=x_prediction.index, columns=['acquisition_function'])\n",
    "    if sample_number == 0:\n",
    "        estimated_y_prediction.to_csv('./../data/estimated_y_prediction_gpr_one_kernel/estimated_y_prediction_{0}_{1}.csv'.format(regression_method,date))  # 予測結果を csv ファイルに保存。同じ名前のファイルがあるときは上書きされる\n",
    "        estimated_y_prediction_std.to_csv('./../data/estimated_y_prediction_gpr_one_kernel_std/estimated_y_prediction_{0}_std_{1}.csv'.format(regression_method,date))  # 予測値の標準偏差を csv ファイルに保存。同じ名前のファイルがあるときは上書きされる\n",
    "        acquisition_function_prediction.to_csv('./../data/acquisiton_function_prediction/acquisition_function_prediction_{0}_{1}_{2}.csv'.format(regression_method, acquisition_function,date))  # 獲得関数を csv ファイルに保存。同じ名前のファイルがあるときは上書きされる\n",
    "\n",
    "    # 次のサンプル\n",
    "    next_samples = pd.concat([next_samples, x_prediction.loc[acquisition_function_prediction.idxmax()]], axis=0)\n",
    "    \n",
    "    \n",
    "    # x, y, x_prediction, cumulative_variance の更新\n",
    "    x = pd.concat([x, x_prediction.loc[acquisition_function_prediction.idxmax()]], axis=0)\n",
    "    y = pd.concat([y, estimated_y_prediction.loc[acquisition_function_prediction.idxmax()].iloc[0]], axis=0)\n",
    "    x_prediction = x_prediction.drop(acquisition_function_prediction.idxmax(), axis=0)\n",
    "    cumulative_variance = np.delete(cumulative_variance, np.where(acquisition_function_prediction.index == acquisition_function_prediction.iloc[:, 0].idxmax())[0][0])\n",
    "    print('sample number : {0} / {1}'.format(sample_number + 1, number_of_selecting_samples))\n",
    "\n",
    "# 実験日の日付\n",
    "x_prediction.to_csv(f'./../data/remaining_samples/remaining_samples_{remaining_samples_number+1}.csv')\n",
    "next_samples.to_csv(f'./../data/next_samples/next_samples_bo_{date}.csv'.format(regression_method, acquisition_function)) # csv ファイルに保存。同じ名前のファイルがあるときは上書きされますので注意してください"
   ]
  },
  {
   "cell_type": "markdown",
   "metadata": {},
   "source": []
  }
 ],
 "metadata": {
  "kernelspec": {
   "display_name": "base",
   "language": "python",
   "name": "python3"
  },
  "language_info": {
   "codemirror_mode": {
    "name": "ipython",
    "version": 3
   },
   "file_extension": ".py",
   "mimetype": "text/x-python",
   "name": "python",
   "nbconvert_exporter": "python",
   "pygments_lexer": "ipython3",
   "version": "3.11.5"
  }
 },
 "nbformat": 4,
 "nbformat_minor": 2
}
